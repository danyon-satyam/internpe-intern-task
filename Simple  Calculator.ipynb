{
 "cells": [
  {
   "cell_type": "markdown",
   "id": "c217889c",
   "metadata": {},
   "source": [
    "# Bulding of a Simple calculator in python"
   ]
  },
  {
   "cell_type": "code",
   "execution_count": 1,
   "id": "29623e3c",
   "metadata": {},
   "outputs": [],
   "source": [
    "#ADD\n",
    "#SUBSTRACT\n",
    "#DIVIDE\n",
    "#MULTIPLY"
   ]
  },
  {
   "cell_type": "code",
   "execution_count": 2,
   "id": "384cc753",
   "metadata": {},
   "outputs": [
    {
     "name": "stdout",
     "output_type": "stream",
     "text": [
      "Select an operation to perform: \n",
      " + ADDITION\n",
      " - SUBSTRACTION\n",
      " / DIVISION\n",
      " * MULTIPLICATION\n"
     ]
    }
   ],
   "source": [
    "print(\"Select an operation to perform: \")\n",
    "print(\" + ADDITION\")\n",
    "print(\" - SUBSTRACTION\")\n",
    "print(\" / DIVISION\")\n",
    "print(\" * MULTIPLICATION\")"
   ]
  },
  {
   "cell_type": "code",
   "execution_count": 3,
   "id": "b5d085ca",
   "metadata": {},
   "outputs": [
    {
     "name": "stdout",
     "output_type": "stream",
     "text": [
      "Enter the first number: 1\n",
      "Enter the second number: 2\n",
      "Enter the operation to perform: -\n"
     ]
    }
   ],
   "source": [
    "num1 = int(input(\"Enter the first number: \"))\n",
    "num2 = int(input(\"Enter the second number: \"))\n",
    "opera=input(\"Enter the operation to perform: \")"
   ]
  },
  {
   "cell_type": "code",
   "execution_count": 4,
   "id": "3da771da",
   "metadata": {},
   "outputs": [
    {
     "name": "stdout",
     "output_type": "stream",
     "text": [
      "Substraction:  -1\n"
     ]
    }
   ],
   "source": [
    "if opera==\"+\":\n",
    "    print(\"Addition: \",num1+num2)\n",
    "elif opera==\"-\":\n",
    "    print(\"Substraction: \",num1-num2)\n",
    "elif opera==\"-\":\n",
    "    print(\"Division: \",num1/num2)\n",
    "elif opera==\"-\":\n",
    "    print(\"Multiplication: \",num1*num2)\n",
    "else:\n",
    "    print(\"Invalid input\")\n"
   ]
  },
  {
   "cell_type": "code",
   "execution_count": null,
   "id": "5c296777",
   "metadata": {},
   "outputs": [],
   "source": []
  }
 ],
 "metadata": {
  "kernelspec": {
   "display_name": "Python 3 (ipykernel)",
   "language": "python",
   "name": "python3"
  },
  "language_info": {
   "codemirror_mode": {
    "name": "ipython",
    "version": 3
   },
   "file_extension": ".py",
   "mimetype": "text/x-python",
   "name": "python",
   "nbconvert_exporter": "python",
   "pygments_lexer": "ipython3",
   "version": "3.9.13"
  }
 },
 "nbformat": 4,
 "nbformat_minor": 5
}
